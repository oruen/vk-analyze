{
 "cells": [
  {
   "cell_type": "code",
   "execution_count": 8,
   "metadata": {
    "collapsed": true
   },
   "outputs": [],
   "source": [
    "import pandas as pd"
   ]
  },
  {
   "cell_type": "code",
   "execution_count": 9,
   "metadata": {
    "collapsed": false
   },
   "outputs": [],
   "source": [
    "texts = pd.read_csv(\"./data/posts.tsv\", sep=\"\\t\", encoding=\"utf-8\").text"
   ]
  },
  {
   "cell_type": "code",
   "execution_count": 10,
   "metadata": {
    "collapsed": false
   },
   "outputs": [],
   "source": [
    "from bs4 import BeautifulSoup\n",
    "import nltk\n",
    "from nltk.corpus import stopwords\n",
    "import re"
   ]
  },
  {
   "cell_type": "code",
   "execution_count": 11,
   "metadata": {
    "collapsed": false
   },
   "outputs": [],
   "source": [
    "stops = set(stopwords.words(\"english\") + stopwords.words(\"russian\"))"
   ]
  },
  {
   "cell_type": "code",
   "execution_count": 12,
   "metadata": {
    "collapsed": false
   },
   "outputs": [],
   "source": [
    "def post_to_words(text):\n",
    "    lower_words = re.sub(ur\"[^а-я]\", \" \", BeautifulSoup(text).get_text().lower()).split()\n",
    "    meaningful_words = [w for w in lower_words if not w in stops]\n",
    "    stemmer = nltk.stem.snowball.RussianStemmer()\n",
    "    return [stemmer.stem(t) for t in meaningful_words]"
   ]
  },
  {
   "cell_type": "code",
   "execution_count": 13,
   "metadata": {
    "collapsed": false
   },
   "outputs": [
    {
     "name": "stderr",
     "output_type": "stream",
     "text": [
      "/Users/oruen/apps/my/bigdata/lab4/venv/lib/python2.7/site-packages/bs4/__init__.py:189: UserWarning: \"https://www.facebook.com/events/406603402849183/411253782384145/?notif_t=plan_mall_activity\" looks like a URL. Beautiful Soup is not an HTTP client. You should probably use an HTTP client to get the document behind the URL, and feed that document to Beautiful Soup.\n",
      "  '\"%s\" looks like a URL. Beautiful Soup is not an HTTP client. You should probably use an HTTP client to get the document behind the URL, and feed that document to Beautiful Soup.' % markup)\n"
     ]
    }
   ],
   "source": [
    "processed_texts = map(lambda x: post_to_words(unicode(x)), texts)"
   ]
  },
  {
   "cell_type": "code",
   "execution_count": 14,
   "metadata": {
    "collapsed": false
   },
   "outputs": [
    {
     "name": "stdout",
     "output_type": "stream",
     "text": [
      "Original: Dictionary(11763 unique tokens: [u'\\u0432\\u044b\\u043f\\u043e\\u043b\\u043d', u'\\u0443\\u043f\\u043e\\u043c\\u044f\\u043d\\u0443\\u0442', u'\\u0432\\u0437\\u043c\\u0430\\u0445', u'\\u043e\\u0433\\u0440\\u0430\\u0436\\u0434\\u0435\\u043d', u'\\u0444\\u0441\\u0431\\u0443\\u0447\\u0430\\u0441\\u0442\\u043e\\u043a']...)\n",
      "Filtered: Dictionary(3160 unique tokens: [u'\\u0432\\u044b\\u043f\\u043e\\u043b\\u043d', u'\\u043e\\u0437\\u043d\\u0430\\u0447\\u0430', u'\\u0441\\u043e\\u043c\\u043d\\u0438\\u0442\\u0435\\u043b\\u044c\\u043d', u'\\u0441\\u043c\\u0435\\u0448\\u043d', u'\\u043d\\u0430\\u0446\\u0438\\u043e\\u043d\\u0430\\u043b\\u0438\\u0441\\u0442']...)\n"
     ]
    }
   ],
   "source": [
    "from gensim import corpora, models, similarities\n",
    "\n",
    "dictionary = corpora.Dictionary(processed_texts)\n",
    "print 'Original: {}'.format(dictionary)\n",
    "dictionary.filter_extremes(no_below = 5, no_above = 0.5, keep_n=None)\n",
    "dictionary.save('nips.dict')\n",
    "print 'Filtered: {}'.format(dictionary)"
   ]
  },
  {
   "cell_type": "code",
   "execution_count": 15,
   "metadata": {
    "collapsed": true
   },
   "outputs": [],
   "source": [
    "corpus = [dictionary.doc2bow(text) for text in processed_texts]\n",
    "corpora.MmCorpus.serialize('nips.mm', corpus) # store on disc"
   ]
  },
  {
   "cell_type": "code",
   "execution_count": 16,
   "metadata": {
    "collapsed": false
   },
   "outputs": [
    {
     "name": "stdout",
     "output_type": "stream",
     "text": [
      "[(160, 2), (720, 1), (731, 1), (1040, 2), (1431, 1), (1461, 1), (1480, 1), (1560, 1), (1780, 1), (1792, 1), (1862, 1), (1872, 1), (1887, 1), (1918, 1), (2082, 1), (2422, 1), (2500, 1), (2536, 1), (2538, 1), (2540, 1)]\n"
     ]
    }
   ],
   "source": [
    "print corpus[7][0:20]"
   ]
  },
  {
   "cell_type": "code",
   "execution_count": 17,
   "metadata": {
    "collapsed": false
   },
   "outputs": [
    {
     "name": "stdout",
     "output_type": "stream",
     "text": [
      "Evaluation time: 2.31935614745\n"
     ]
    }
   ],
   "source": [
    "from time import time\n",
    "start = time()\n",
    "model = models.ldamodel.LdaModel(corpus, id2word=dictionary, num_topics=5, chunksize=2000, update_every=1, passes=40, decay=0.5)\n",
    "print 'Evaluation time: {}'.format((time()-start) / 60)"
   ]
  },
  {
   "cell_type": "code",
   "execution_count": 21,
   "metadata": {
    "collapsed": false,
    "scrolled": true
   },
   "outputs": [
    {
     "name": "stdout",
     "output_type": "stream",
     "text": [
      "      наш             куб           навальн         навальн            ул      \n",
      "       эт            газет           команд            эт            выход     \n",
      "      нам            средн            штаб           котор            метр     \n",
      "      нужн           разда           приход           сво              д       \n",
      "      сво           человек           нам             год           проспект   \n",
      "      очен          волонтер          друз           москв           площад    \n",
      "      друз            выда            наш             дел             улиц     \n",
      "     команд         листовок         встреч           росс          бульвар    \n",
      "      всем          навальн          сегодн         коррупц            м       \n",
      "    навальн          сегодн          сдела            мэр             куб      \n"
     ]
    }
   ],
   "source": [
    "for position in range(10):\n",
    "    for topic in range(5):\n",
    "        print model.show_topic(topic)[position][1].center(15, ' '),\n",
    "    print"
   ]
  },
  {
   "cell_type": "markdown",
   "metadata": {},
   "source": [
    "Куб — агитационная точка сторонников Навального.\n",
    "\n",
    "1. Слегка разплывчатое описание того, чем так хорошо работать в команде Навального.\n",
    "2. Описание конкретных действий, которыми волонтеры могут помочь команде Навального: раздача газет и листовок, агитация на кубах.\n",
    "3. Мотивация сторонников Навального помогать агитационному процессу, участие во встречах с Навальным.\n",
    "4. Тема о том, как Навальный успешно победил бы коррупцию, если бы стал мэром Москвы.\n",
    "5. В этой теме можно заметить много слов, относящихся к местоположению: улица, проспект, метро, площадь, а также куб. Эта тема — о том, где конкретно проходит агитация и куда можно подойти, чтобы ей помочь. "
   ]
  },
  {
   "cell_type": "code",
   "execution_count": null,
   "metadata": {
    "collapsed": true
   },
   "outputs": [],
   "source": []
  }
 ],
 "metadata": {
  "kernelspec": {
   "display_name": "Python 2",
   "language": "python",
   "name": "python2"
  },
  "language_info": {
   "codemirror_mode": {
    "name": "ipython",
    "version": 2
   },
   "file_extension": ".py",
   "mimetype": "text/x-python",
   "name": "python",
   "nbconvert_exporter": "python",
   "pygments_lexer": "ipython2",
   "version": "2.7.2"
  }
 },
 "nbformat": 4,
 "nbformat_minor": 0
}
