{
 "cells": [
  {
   "cell_type": "code",
   "execution_count": 30,
   "metadata": {
    "collapsed": true
   },
   "outputs": [],
   "source": [
    "import pandas as pd"
   ]
  },
  {
   "cell_type": "code",
   "execution_count": 31,
   "metadata": {
    "collapsed": false
   },
   "outputs": [],
   "source": [
    "texts = pd.read_csv(\"./data/posts.tsv\", sep=\"\\t\", encoding=\"utf-8\").text"
   ]
  },
  {
   "cell_type": "code",
   "execution_count": 32,
   "metadata": {
    "collapsed": false
   },
   "outputs": [],
   "source": [
    "from bs4 import BeautifulSoup\n",
    "import nltk\n",
    "from nltk.corpus import stopwords\n",
    "import re"
   ]
  },
  {
   "cell_type": "code",
   "execution_count": 42,
   "metadata": {
    "collapsed": false
   },
   "outputs": [],
   "source": [
    "stops = set(stopwords.words(\"english\") + stopwords.words(\"russian\"))"
   ]
  },
  {
   "cell_type": "code",
   "execution_count": 64,
   "metadata": {
    "collapsed": false
   },
   "outputs": [],
   "source": [
    "def post_to_words(text):\n",
    "    lower_words = re.sub(ur\"[^а-я]\", \" \", BeautifulSoup(text).get_text().lower()).split()\n",
    "    meaningful_words = [w for w in lower_words if not w in stops]\n",
    "    stemmer = nltk.stem.snowball.RussianStemmer()\n",
    "    return [stemmer.stem(t) for t in meaningful_words]"
   ]
  },
  {
   "cell_type": "code",
   "execution_count": 78,
   "metadata": {
    "collapsed": false
   },
   "outputs": [],
   "source": [
    "processed_texts = map(lambda x: post_to_words(unicode(x)), texts)"
   ]
  },
  {
   "cell_type": "code",
   "execution_count": 83,
   "metadata": {
    "collapsed": false
   },
   "outputs": [
    {
     "name": "stdout",
     "output_type": "stream",
     "text": [
      "Original: Dictionary(3434 unique tokens: [u'\\u0441\\u043e\\u043c\\u043d\\u0438\\u0442\\u0435\\u043b\\u044c\\u043d', u'\\u0447\\u0435\\u0447\\u043d', u'\\u043e\\u0431\\u043b\\u0430\\u0432', u'\\u0441\\u043f\\u0438\\u0441\\u043e\\u043a', u'\\u0441\\u043c\\u0435\\u044f']...)\n",
      "Filtered: Dictionary(563 unique tokens: [u'\\u043a\\u043e\\u0433', u'\\u0441\\u0441\\u044b\\u043b\\u043a', u'\\u0443\\u0440\\u0430\\u043b\\u044c\\u0441\\u043a', u'\\u0441\\u043f\\u0438\\u0441\\u043e\\u043a', u'\\u043d\\u0430\\u0445\\u0438\\u043c\\u043e\\u0432\\u0441\\u043a']...)\n"
     ]
    }
   ],
   "source": [
    "from gensim import corpora, models, similarities\n",
    "\n",
    "dictionary = corpora.Dictionary(processed_texts)\n",
    "print 'Original: {}'.format(dictionary)\n",
    "dictionary.filter_extremes(no_below = 5, no_above = 0.5, keep_n=None)\n",
    "dictionary.save('nips.dict')\n",
    "print 'Filtered: {}'.format(dictionary)"
   ]
  },
  {
   "cell_type": "code",
   "execution_count": 84,
   "metadata": {
    "collapsed": true
   },
   "outputs": [],
   "source": [
    "corpus = [dictionary.doc2bow(text) for text in processed_texts]\n",
    "corpora.MmCorpus.serialize('nips.mm', corpus) # store on disc"
   ]
  },
  {
   "cell_type": "code",
   "execution_count": 92,
   "metadata": {
    "collapsed": false
   },
   "outputs": [
    {
     "name": "stdout",
     "output_type": "stream",
     "text": [
      "[(43, 1), (117, 1), (204, 1), (284, 1), (462, 1), (523, 1)]\n"
     ]
    }
   ],
   "source": [
    "print corpus[7][0:20]"
   ]
  },
  {
   "cell_type": "code",
   "execution_count": 97,
   "metadata": {
    "collapsed": false
   },
   "outputs": [
    {
     "name": "stdout",
     "output_type": "stream",
     "text": [
      "Evaluation time: 0.734800350666\n"
     ]
    }
   ],
   "source": [
    "from time import time\n",
    "start = time()\n",
    "model = models.ldamodel.LdaModel(corpus, id2word=dictionary, num_topics=5, chunksize=2000, update_every=1, passes=40, decay=0.5)\n",
    "print 'Evaluation time: {}'.format((time()-start) / 60)"
   ]
  },
  {
   "cell_type": "code",
   "execution_count": 105,
   "metadata": {
    "collapsed": false,
    "scrolled": true
   },
   "outputs": [
    {
     "name": "stdout",
     "output_type": "stream",
     "text": [
      "         ул                 встреч                 эт                  куб                  рубл        \n",
      "         д                  команд               котор               навальн                дел         \n",
      "      проспект              район                 год                волонтер                эт         \n",
      "       выход                приход                сво                 команд                год         \n",
      "        метр                 нам                навальн                наш                 путин        \n",
      "       площад              навальн                росс               социолог               млрд        \n",
      "        улиц                 друз                 суд                  нам                  сво         \n",
      "      бульвар                штаб                 сам                 помога                нача        \n",
      "        куб                  наш                 стран              инструктаж             вопрос       \n",
      "         тц                  хот                  наш                 средн                 росс        \n"
     ]
    }
   ],
   "source": [
    "for position in range(10):\n",
    "    for topic in range(5):\n",
    "        print model.show_topic(topic)[position][1].center(20, ' '),\n",
    "    print"
   ]
  },
  {
   "cell_type": "markdown",
   "metadata": {},
   "source": [
    "1. Вы первой теме можно заметить много слов, относящихся к местоположению: улица, проспект, метро, площадь, а также куб. Эта тема — со времен активной агитации за Навального во время выборов мэра, когда по всей Москве стояли агитационные точки — кубы.\n",
    "2. Эта тема схожа с первой, но больше относится с активизации и рекрутингу волонтеров для работы в штабе и вцелом команде Навального на тех же выборах.\n",
    "3. Тут получилась довольно расплывчатая тема Навального, его суды и судьбы России.\n",
    "4. Эта тема опять связана с поиском волонтеров, но уже в основном после выборов мэра. Тут волонтеры ищутся для различных пикетов и проведения социологических опросов по разным темам.\n",
    "5. Тема корупции и хищений миооиардов долларов друщьями Путина."
   ]
  },
  {
   "cell_type": "code",
   "execution_count": null,
   "metadata": {
    "collapsed": true
   },
   "outputs": [],
   "source": []
  }
 ],
 "metadata": {
  "kernelspec": {
   "display_name": "Python 2",
   "language": "python",
   "name": "python2"
  },
  "language_info": {
   "codemirror_mode": {
    "name": "ipython",
    "version": 2
   },
   "file_extension": ".py",
   "mimetype": "text/x-python",
   "name": "python",
   "nbconvert_exporter": "python",
   "pygments_lexer": "ipython2",
   "version": "2.7.2"
  }
 },
 "nbformat": 4,
 "nbformat_minor": 0
}
